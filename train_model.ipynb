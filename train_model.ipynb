{
 "cells": [
  {
   "cell_type": "code",
   "execution_count": 1,
   "metadata": {},
   "outputs": [
    {
     "name": "stderr",
     "output_type": "stream",
     "text": [
      "/usr/local/Cellar/python3/3.6.4_2/Frameworks/Python.framework/Versions/3.6/lib/python3.6/site-packages/h5py/__init__.py:36: FutureWarning: Conversion of the second argument of issubdtype from `float` to `np.floating` is deprecated. In future, it will be treated as `np.float64 == np.dtype(float).type`.\n",
      "  from ._conv import register_converters as _register_converters\n",
      "Using TensorFlow backend.\n"
     ]
    }
   ],
   "source": [
    "# Imports\n",
    "import keras\n",
    "from keras.preprocessing.image import ImageDataGenerator\n",
    "import numpy as np, pandas as pd\n",
    "import matplotlib.pyplot as plt\n",
    "import os, glob, random, sys, math, cv2\n",
    "from sklearn.model_selection import train_test_split\n",
    "from skimage import transform\n",
    "from tqdm import tqdm\n",
    "\n",
    "# Model\n",
    "from model import Model\n",
    "\n",
    "%matplotlib inline"
   ]
  },
  {
   "cell_type": "code",
   "execution_count": 4,
   "metadata": {},
   "outputs": [
    {
     "name": "stdout",
     "output_type": "stream",
     "text": [
      "['aeschynanthus_parvifolius', 'bougainvillea_glabra', 'costus_woodsonii_maas', 'dillenia_excelsa', 'extra_dillenia_excelsa', 'extra_dillenia_indica', 'hedychium', 'hibiscus_rosa_sinensis', 'ixora_congesta', 'jasminum_sambac', 'lycoris', 'papilionanthe_miss_joaqium', 'plumeria']\n"
     ]
    }
   ],
   "source": [
    "# Read image categories\n",
    "ROOT_DIR = os.getcwd()\n",
    "IMAGE_DIR = os.path.join(ROOT_DIR, 'images')\n",
    "CATEGORIES = [folder for folder in os.listdir(IMAGE_DIR) \n",
    "               if os.path.isdir(os.path.join(IMAGE_DIR, folder))]\n",
    "CATEGORIES.sort() # Alphabetical order\n",
    "NUM_CLASSES = len(CATEGORIES)\n",
    "print(CATEGORIES)"
   ]
  },
  {
   "cell_type": "code",
   "execution_count": 5,
   "metadata": {},
   "outputs": [
    {
     "name": "stderr",
     "output_type": "stream",
     "text": [
      "  0%|          | 0/100 [00:00<?, ?it/s]/usr/local/Cellar/python3/3.6.4_2/Frameworks/Python.framework/Versions/3.6/lib/python3.6/site-packages/skimage/transform/_warps.py:84: UserWarning: The default mode, 'constant', will be changed to 'reflect' in skimage 0.15.\n",
      "  warn(\"The default mode, 'constant', will be changed to 'reflect' in \"\n",
      "  2%|▏         | 2/100 [00:00<00:05, 18.41it/s]"
     ]
    },
    {
     "name": "stdout",
     "output_type": "stream",
     "text": [
      "Processing aeschynanthus_parvifolius images...\n"
     ]
    },
    {
     "name": "stderr",
     "output_type": "stream",
     "text": [
      "100%|██████████| 100/100 [00:05<00:00, 19.98it/s]\n",
      "  3%|▎         | 3/100 [00:00<00:06, 15.32it/s]"
     ]
    },
    {
     "name": "stdout",
     "output_type": "stream",
     "text": [
      "Processing bougainvillea_glabra images...\n"
     ]
    },
    {
     "name": "stderr",
     "output_type": "stream",
     "text": [
      "100%|██████████| 100/100 [00:08<00:00, 11.65it/s]\n",
      "  0%|          | 0/82 [00:00<?, ?it/s]"
     ]
    },
    {
     "name": "stdout",
     "output_type": "stream",
     "text": [
      "Processing costus_woodsonii_maas images...\n"
     ]
    },
    {
     "name": "stderr",
     "output_type": "stream",
     "text": [
      "100%|██████████| 82/82 [00:12<00:00,  6.57it/s]\n",
      "  5%|▌         | 2/39 [00:00<00:02, 16.42it/s]"
     ]
    },
    {
     "name": "stdout",
     "output_type": "stream",
     "text": [
      "Processing dillenia_excelsa images...\n"
     ]
    },
    {
     "name": "stderr",
     "output_type": "stream",
     "text": [
      "100%|██████████| 39/39 [00:02<00:00, 15.26it/s]\n",
      "  0%|          | 0/43 [00:00<?, ?it/s]"
     ]
    },
    {
     "name": "stdout",
     "output_type": "stream",
     "text": [
      "Processing extra_dillenia_excelsa images...\n"
     ]
    },
    {
     "name": "stderr",
     "output_type": "stream",
     "text": [
      "100%|██████████| 43/43 [00:04<00:00, 10.55it/s]\n",
      "  0%|          | 0/48 [00:00<?, ?it/s]"
     ]
    },
    {
     "name": "stdout",
     "output_type": "stream",
     "text": [
      "Processing extra_dillenia_indica images...\n"
     ]
    },
    {
     "name": "stderr",
     "output_type": "stream",
     "text": [
      "100%|██████████| 48/48 [00:06<00:00,  7.75it/s]\n",
      "  3%|▎         | 3/99 [00:00<00:05, 17.46it/s]"
     ]
    },
    {
     "name": "stdout",
     "output_type": "stream",
     "text": [
      "Processing hedychium images...\n"
     ]
    },
    {
     "name": "stderr",
     "output_type": "stream",
     "text": [
      "100%|██████████| 99/99 [00:08<00:00, 11.21it/s]\n",
      "  2%|▏         | 2/98 [00:00<00:04, 19.92it/s]"
     ]
    },
    {
     "name": "stdout",
     "output_type": "stream",
     "text": [
      "Processing hibiscus_rosa_sinensis images...\n"
     ]
    },
    {
     "name": "stderr",
     "output_type": "stream",
     "text": [
      "100%|██████████| 98/98 [00:12<00:00,  8.00it/s]\n",
      "  4%|▍         | 3/71 [00:00<00:02, 29.42it/s]"
     ]
    },
    {
     "name": "stdout",
     "output_type": "stream",
     "text": [
      "Processing ixora_congesta images...\n"
     ]
    },
    {
     "name": "stderr",
     "output_type": "stream",
     "text": [
      "100%|██████████| 71/71 [00:03<00:00, 21.65it/s]\n",
      "  0%|          | 0/99 [00:00<?, ?it/s]"
     ]
    },
    {
     "name": "stdout",
     "output_type": "stream",
     "text": [
      "Processing jasminum_sambac images...\n"
     ]
    },
    {
     "name": "stderr",
     "output_type": "stream",
     "text": [
      "100%|██████████| 99/99 [00:08<00:00, 11.95it/s]\n",
      "  3%|▎         | 2/76 [00:00<00:04, 17.44it/s]"
     ]
    },
    {
     "name": "stdout",
     "output_type": "stream",
     "text": [
      "Processing lycoris images...\n"
     ]
    },
    {
     "name": "stderr",
     "output_type": "stream",
     "text": [
      "100%|██████████| 76/76 [00:09<00:00,  7.98it/s]\n",
      "  2%|▏         | 2/99 [00:00<00:04, 19.94it/s]"
     ]
    },
    {
     "name": "stdout",
     "output_type": "stream",
     "text": [
      "Processing papilionanthe_miss_joaqium images...\n"
     ]
    },
    {
     "name": "stderr",
     "output_type": "stream",
     "text": [
      " 22%|██▏       | 22/99 [00:01<00:03, 21.39it/s]"
     ]
    },
    {
     "name": "stdout",
     "output_type": "stream",
     "text": [
      "Faulty image /Users/qinghao1/Documents/CS/ML/Projects/cs3244/images/papilionanthe_miss_joaqium/170c8f5dd143438a8e291505b50cbd67.jpg; Ignoring...\n"
     ]
    },
    {
     "name": "stderr",
     "output_type": "stream",
     "text": [
      "100%|██████████| 99/99 [00:05<00:00, 16.65it/s]\n",
      "  3%|▎         | 2/78 [00:00<00:04, 18.49it/s]"
     ]
    },
    {
     "name": "stdout",
     "output_type": "stream",
     "text": [
      "Processing plumeria images...\n"
     ]
    },
    {
     "name": "stderr",
     "output_type": "stream",
     "text": [
      "100%|██████████| 78/78 [00:06<00:00, 12.90it/s]"
     ]
    },
    {
     "name": "stdout",
     "output_type": "stream",
     "text": [
      "Read 1031 images and 1031 labels.\n"
     ]
    },
    {
     "name": "stderr",
     "output_type": "stream",
     "text": [
      "\n"
     ]
    }
   ],
   "source": [
    "IMAGE_DIM = (512, 512,)\n",
    "\n",
    "# Read images and labels into arrays\n",
    "images = []\n",
    "labels = []\n",
    "for label, category in enumerate(CATEGORIES):\n",
    "    print(\"Processing {} images...\".format(category))\n",
    "    folder_path = os.path.join(IMAGE_DIR, category)\n",
    "    # Read images in subfolder\n",
    "    for image_file_path in tqdm(glob.glob(folder_path + \"/*.jpg\")):\n",
    "        image_data = cv2.imread(image_file_path)\n",
    "        if image_data is None:\n",
    "            print(\"Faulty image {}; Ignoring...\".format(image_file_path))\n",
    "            continue\n",
    "        # Resize to constant dimensions\n",
    "        image_data = transform.resize(image_data, IMAGE_DIM)\n",
    "        images.append(image_data)\n",
    "        labels.append(label+1)\n",
    "\n",
    "# Change labels to one-hot vector of length NUM_CLASSES instead of integers\n",
    "labels = keras.utils.to_categorical(labels)\n",
    "\n",
    "print(\"Read {} images and {} labels.\".format(len(images), len(labels))) # Should be same number"
   ]
  },
  {
   "cell_type": "code",
   "execution_count": 10,
   "metadata": {},
   "outputs": [
    {
     "name": "stderr",
     "output_type": "stream",
     "text": [
      "/usr/local/Cellar/python3/3.6.4_2/Frameworks/Python.framework/Versions/3.6/lib/python3.6/site-packages/sklearn/model_selection/_split.py:2026: FutureWarning: From version 0.21, test_size will always complement train_size unless both are specified.\n",
      "  FutureWarning)\n"
     ]
    },
    {
     "name": "stdout",
     "output_type": "stream",
     "text": [
      "927 training images, 104 testing images\n"
     ]
    }
   ],
   "source": [
    "# Split into training and test sets\n",
    "train_test_split_ratio = 0.9 # Proportion in train set\n",
    "x_train, x_test, y_train, y_test = train_test_split(images, labels, train_size = train_test_split_ratio)\n",
    "print(\"{} training images, {} testing images\".format(len(x_train), len(x_test)))\n",
    "\n",
    "# Convert to numpy arrays\n",
    "x_train, x_test, y_train, y_test = np.array(x_train), np.array(x_test), np.array(y_train), np.array(y_test)"
   ]
  },
  {
   "cell_type": "code",
   "execution_count": 12,
   "metadata": {},
   "outputs": [],
   "source": [
    "# Save arrays to file\n",
    "if not os.path.exists('data'):\n",
    "    os.makedirs('data')\n",
    "np.save('data/train_images', x_train)\n",
    "np.save('data/train_labels', y_train)\n",
    "np.save('data/test_images', x_test)\n",
    "np.save('data/test_labels', y_test)"
   ]
  },
  {
   "cell_type": "code",
   "execution_count": 13,
   "metadata": {},
   "outputs": [],
   "source": [
    "# Image data augmentation to increase effective dataset size\n",
    "datagen = ImageDataGenerator(\n",
    "        rotation_range=40,\n",
    "        width_shift_range=0.2,\n",
    "        height_shift_range=0.2,\n",
    "        rescale=1./255, # Rescale to range 0..1\n",
    "        shear_range=0.2,\n",
    "        zoom_range=0.2,\n",
    "        horizontal_flip=True,\n",
    "        vertical_flip=True,\n",
    "        fill_mode='wrap' # I.e. tiling\n",
    ")"
   ]
  },
  {
   "cell_type": "code",
   "execution_count": null,
   "metadata": {},
   "outputs": [],
   "source": [
    "# Model\n",
    "base_model = keras.applications.densenet.DenseNet121(include_top=True, weights=None, input_shape=IMAGE_DIM+(3,), classes=NUM_CLASSES)\n",
    "# base_model.summary()\n",
    "model = keras.models.Model(inputs=base_model.input, outputs=base_model.get_layer(name='fc1000').output)\n",
    "print(\"debugt\")\n",
    "model.compile(optimizer = Nadam(), loss='categorical_crossentropy', metrics=['accuracy'])\n",
    "\n",
    "# Callback to save model weights\n",
    "model_checkpoint = keras.callbacks.ModelCheckpoint('weights.{epoch:02d}.h5', verbose=1)"
   ]
  },
  {
   "cell_type": "code",
   "execution_count": null,
   "metadata": {},
   "outputs": [],
   "source": [
    "# Train model\n",
    "\n",
    "# Hyper parameters\n",
    "BATCH_SIZE = 8\n",
    "EPOCHS = 100\n",
    "STEPS_PER_EPOCH = len(x_train) // BATCH_SIZE\n",
    "\n",
    "model.fit_generator(\n",
    "    datagen.flow(x_train, y_train, batch_size = BATCH_SIZE),\n",
    "    steps_per_epoch = STEPS_PER_EPOCH,\n",
    "    epochs = EPOCHS,\n",
    "    callbacks = [model_checkpoint]\n",
    ")"
   ]
  },
  {
   "cell_type": "code",
   "execution_count": null,
   "metadata": {},
   "outputs": [],
   "source": []
  }
 ],
 "metadata": {
  "kernelspec": {
   "display_name": "Python 3",
   "language": "python",
   "name": "python3"
  },
  "language_info": {
   "codemirror_mode": {
    "name": "ipython",
    "version": 3
   },
   "file_extension": ".py",
   "mimetype": "text/x-python",
   "name": "python",
   "nbconvert_exporter": "python",
   "pygments_lexer": "ipython3",
   "version": "3.6.4"
  }
 },
 "nbformat": 4,
 "nbformat_minor": 2
}
