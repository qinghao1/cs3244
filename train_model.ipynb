{
 "cells": [
  {
   "cell_type": "code",
   "execution_count": 17,
   "metadata": {},
   "outputs": [],
   "source": [
    "# Imports\n",
    "import keras\n",
    "import numpy as np, pandas as pd\n",
    "import matplotlib.pyplot as plt\n",
    "import os, glob, random, sys, math, cv2\n",
    "from sklearn.model_selection import train_test_split\n",
    "from tqdm import tqdm\n",
    "\n",
    "%matplotlib inline"
   ]
  },
  {
   "cell_type": "code",
   "execution_count": 7,
   "metadata": {},
   "outputs": [
    {
     "name": "stdout",
     "output_type": "stream",
     "text": [
      "['orchid']\n"
     ]
    }
   ],
   "source": [
    "# Read image categories\n",
    "ROOT_DIR = os.getcwd()\n",
    "IMAGE_DIR = os.path.join(ROOT_DIR, 'images')\n",
    "CATEGORIES = [folder for folder in os.listdir(IMAGE_DIR) \n",
    "               if os.path.isdir(os.path.join(IMAGE_DIR, folder))]\n",
    "NUM_CLASSES = len(CATEGORIES)\n",
    "print(CATEGORIES)"
   ]
  },
  {
   "cell_type": "code",
   "execution_count": 14,
   "metadata": {},
   "outputs": [
    {
     "name": "stderr",
     "output_type": "stream",
     "text": [
      "\r",
      "0it [00:00, ?it/s]"
     ]
    },
    {
     "name": "stdout",
     "output_type": "stream",
     "text": [
      "Processing orchid images...\n",
      "Read 0 images and 0 labels.\n"
     ]
    },
    {
     "name": "stderr",
     "output_type": "stream",
     "text": [
      "\n"
     ]
    }
   ],
   "source": [
    "# TODO rewrite using keras datagen\n",
    "\n",
    "IMAGE_DIM = (512, 512,)\n",
    "\n",
    "# Read images and labels into arrays\n",
    "images = []\n",
    "labels = []\n",
    "for label, category in enumerate(categories):\n",
    "    print(\"Processing {} images...\".format(category))\n",
    "    folder_path = os.path.join(IMAGE_DIR, category)\n",
    "    # Read images in subfolder\n",
    "    for image_file_path in tqdm(glob.glob(folder_path + \"/*.jpg\")):\n",
    "        image_data = cv2.imread(image_file_path)\n",
    "        # Resize to constant resolution\n",
    "        \n",
    "        images.append(image_data)\n",
    "        labels.append(label)\n",
    "\n",
    "print(\"Read {} images and {} labels.\".format(len(images), len(labels)))"
   ]
  },
  {
   "cell_type": "code",
   "execution_count": 18,
   "metadata": {},
   "outputs": [
    {
     "name": "stderr",
     "output_type": "stream",
     "text": [
      "/usr/local/Cellar/python3/3.6.4_2/Frameworks/Python.framework/Versions/3.6/lib/python3.6/site-packages/sklearn/model_selection/_split.py:2026: FutureWarning: From version 0.21, test_size will always complement train_size unless both are specified.\n",
      "  FutureWarning)\n"
     ]
    }
   ],
   "source": [
    "# Split into training and test sets\n",
    "train_test_split_ratio = 0.9 # Proportion in train set\n",
    "x_train, y_train, x_test, y_test = train_test_split(images, labels, train_size = train_test_split_ratio)\n",
    "print(x_train.shape())\n",
    "print(\"{} training images, {} testing images\".format(len(x_train, y_train)))"
   ]
  },
  {
   "cell_type": "code",
   "execution_count": null,
   "metadata": {},
   "outputs": [],
   "source": []
  }
 ],
 "metadata": {
  "kernelspec": {
   "display_name": "Python 3",
   "language": "python",
   "name": "python3"
  },
  "language_info": {
   "codemirror_mode": {
    "name": "ipython",
    "version": 3
   },
   "file_extension": ".py",
   "mimetype": "text/x-python",
   "name": "python",
   "nbconvert_exporter": "python",
   "pygments_lexer": "ipython3",
   "version": "3.6.4"
  }
 },
 "nbformat": 4,
 "nbformat_minor": 2
}
