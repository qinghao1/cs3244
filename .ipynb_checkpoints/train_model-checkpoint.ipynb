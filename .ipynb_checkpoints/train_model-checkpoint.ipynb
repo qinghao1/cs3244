{
 "cells": [
  {
   "cell_type": "code",
   "execution_count": 1,
   "metadata": {},
   "outputs": [
    {
     "name": "stderr",
     "output_type": "stream",
     "text": [
      "/usr/local/lib/python3.6/dist-packages/h5py/__init__.py:36: FutureWarning: Conversion of the second argument of issubdtype from `float` to `np.floating` is deprecated. In future, it will be treated as `np.float64 == np.dtype(float).type`.\n",
      "  from ._conv import register_converters as _register_converters\n",
      "Using TensorFlow backend.\n",
      "/usr/lib/python3.6/importlib/_bootstrap.py:219: RuntimeWarning: compiletime version 3.5 of module 'tensorflow.python.framework.fast_tensor_util' does not match runtime version 3.6\n",
      "  return f(*args, **kwds)\n"
     ]
    }
   ],
   "source": [
    "# Imports\n",
    "import keras\n",
    "from keras.preprocessing.image import ImageDataGenerator\n",
    "import numpy as np, pandas as pd\n",
    "import matplotlib.pyplot as plt\n",
    "import os, glob, random, sys, math, cv2\n",
    "from sklearn.model_selection import train_test_split\n",
    "from skimage import transform\n",
    "from tqdm import tqdm\n",
    "\n",
    "# Model\n",
    "# from model import Model\n",
    "\n",
    "%matplotlib inline"
   ]
  },
  {
   "cell_type": "code",
   "execution_count": 2,
   "metadata": {},
   "outputs": [
    {
     "name": "stdout",
     "output_type": "stream",
     "text": [
      "['aeschynanthus_parvifolius', 'bougainvillea_glabra', 'costus_woodsonii_maas', 'dillenia_excelsa', 'dillenia_indica', 'hedychium', 'hibiscus_rosa_sinensis', 'ixora_congesta', 'jasminum_sambac', 'lycoris', 'papilionanthe_miss_joaqium', 'plumeria']\n"
     ]
    }
   ],
   "source": [
    "# Read image categories\n",
    "ROOT_DIR = os.getcwd()\n",
    "IMAGE_DIR = os.path.join(ROOT_DIR, 'images')\n",
    "CATEGORIES = [folder for folder in os.listdir(IMAGE_DIR) \n",
    "               if os.path.isdir(os.path.join(IMAGE_DIR, folder))]\n",
    "CATEGORIES.sort() # Alphabetical order\n",
    "NUM_CLASSES = len(CATEGORIES)\n",
    "print(CATEGORIES)"
   ]
  },
  {
   "cell_type": "code",
   "execution_count": 3,
   "metadata": {},
   "outputs": [],
   "source": [
    "IMAGE_DIM = (512, 512,)\n",
    "\n",
    "data_present = False\n",
    "\n",
    "if os.path.exists('data'):\n",
    "    x_train = np.load('data/train_images.npy')\n",
    "    y_train = np.load('data/train_labels.npy')\n",
    "    data_present = True\n",
    "    \n",
    "else:\n",
    "    # Read images and labels into arrays\n",
    "    images = []\n",
    "    labels = []\n",
    "    for label, category in enumerate(CATEGORIES):\n",
    "        print(\"Processing {} images...\".format(category))\n",
    "        folder_path = os.path.join(IMAGE_DIR, category)\n",
    "        # Read images in subfolder\n",
    "        for image_file_path in tqdm(glob.glob(folder_path + \"/*.jpg\")):\n",
    "            image_data = cv2.imread(image_file_path)\n",
    "            if image_data is None:\n",
    "                print(\"Faulty image {}; Ignoring...\".format(image_file_path))\n",
    "                continue\n",
    "            # Resize to constant dimensions\n",
    "            image_data = transform.resize(image_data, IMAGE_DIM)\n",
    "            images.append(image_data)\n",
    "            labels.append(label)\n",
    "\n",
    "    # Change labels to one-hot vector of length NUM_CLASSES instead of integers\n",
    "    labels = keras.utils.to_categorical(labels)\n",
    "\n",
    "    print(\"Read {} images and {} labels.\".format(len(images), len(labels))) # Should be same number"
   ]
  },
  {
   "cell_type": "code",
   "execution_count": 4,
   "metadata": {},
   "outputs": [],
   "source": [
    "if not data_present:\n",
    "    # Split into training and test sets\n",
    "    train_test_split_ratio = 0.9 # Proportion in train set\n",
    "    x_train, x_test, y_train, y_test = train_test_split(images, labels, train_size = train_test_split_ratio)\n",
    "    print(\"{} training images, {} testing images\".format(len(x_train), len(x_test)))\n",
    "\n",
    "    # Convert to numpy arrays\n",
    "    x_train, x_test, y_train, y_test = np.array(x_train), np.array(x_test), np.array(y_train), np.array(y_test)"
   ]
  },
  {
   "cell_type": "code",
   "execution_count": 5,
   "metadata": {},
   "outputs": [],
   "source": [
    "if not data_present:\n",
    "    # Save arrays to file\n",
    "    if not os.path.exists('data'):\n",
    "        os.makedirs('data')\n",
    "    np.save('data/train_images', x_train)\n",
    "    np.save('data/train_labels', y_train)\n",
    "    np.save('data/test_images', x_test)\n",
    "    np.save('data/test_labels', y_test)"
   ]
  },
  {
   "cell_type": "code",
   "execution_count": 6,
   "metadata": {},
   "outputs": [],
   "source": [
    "# Image data augmentation to increase effective dataset size\n",
    "datagen = ImageDataGenerator(\n",
    "        rotation_range=40,\n",
    "        width_shift_range=0.2,\n",
    "        height_shift_range=0.2,\n",
    "        rescale=1./255, # Rescale to range 0..1\n",
    "        shear_range=0.2,\n",
    "        zoom_range=0.2,\n",
    "        horizontal_flip=True,\n",
    "        vertical_flip=True,\n",
    "        fill_mode='wrap' # I.e. tiling\n",
    ")"
   ]
  },
  {
   "cell_type": "code",
   "execution_count": 7,
   "metadata": {},
   "outputs": [],
   "source": [
    "# Model\n",
    "base_model = keras.applications.densenet.DenseNet121(include_top=True, weights=None, input_shape=IMAGE_DIM+(3,), classes=NUM_CLASSES)\n",
    "model = keras.models.Model(inputs=base_model.input, outputs=base_model.get_layer(name='fc1000').output)\n",
    "model.compile(optimizer = keras.optimizers.Nadam(), loss='categorical_crossentropy', metrics=['accuracy'])\n",
    "\n",
    "# Callback to save model weights\n",
    "model_checkpoint = keras.callbacks.ModelCheckpoint('weights.{epoch:02d}.h5', verbose=1)"
   ]
  },
  {
   "cell_type": "code",
   "execution_count": 8,
   "metadata": {},
   "outputs": [],
   "source": [
    "# Load weights if they exist\n",
    "model.load_weights('weights.39.h5')"
   ]
  },
  {
   "cell_type": "code",
   "execution_count": null,
   "metadata": {},
   "outputs": [
    {
     "name": "stdout",
     "output_type": "stream",
     "text": [
      "Epoch 40/100\n",
      " 15/111 [===>..........................] - ETA: 3:49 - loss: 1.0099 - acc: 0.6833"
     ]
    }
   ],
   "source": [
    "# Train model\n",
    "\n",
    "# Hyper parameters\n",
    "BATCH_SIZE = 8\n",
    "EPOCHS = 100\n",
    "STEPS_PER_EPOCH = len(x_train) // BATCH_SIZE\n",
    "\n",
    "model.fit_generator(\n",
    "    datagen.flow(x_train, y_train, batch_size = BATCH_SIZE),\n",
    "    steps_per_epoch = STEPS_PER_EPOCH,\n",
    "    epochs = EPOCHS,\n",
    "    callbacks = [model_checkpoint],\n",
    "    initial_epoch = 39\n",
    ")"
   ]
  },
  {
   "cell_type": "code",
   "execution_count": null,
   "metadata": {},
   "outputs": [],
   "source": []
  }
 ],
 "metadata": {
  "kernelspec": {
   "display_name": "Python 3",
   "language": "python",
   "name": "python3"
  },
  "language_info": {
   "codemirror_mode": {
    "name": "ipython",
    "version": 3
   },
   "file_extension": ".py",
   "mimetype": "text/x-python",
   "name": "python",
   "nbconvert_exporter": "python",
   "pygments_lexer": "ipython3",
   "version": "3.6.3"
  }
 },
 "nbformat": 4,
 "nbformat_minor": 2
}
